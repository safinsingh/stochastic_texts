{
 "cells": [
  {
   "cell_type": "code",
   "execution_count": 89,
   "id": "bc4c0188-0f5d-4bab-b2bf-c985f99631a2",
   "metadata": {},
   "outputs": [
    {
     "name": "stdout",
     "output_type": "stream",
     "text": [
      "Let X indicate a norm part of the vector space of z.\n",
      "Let alpha describe a scalar contained in the sub-lattice of q.\n",
      "\n",
      "Moreover, x does not correspond to the commutativity of eigenvalues.\n",
      "Thus, q does indicate the orthonormality of vectors.\n",
      "Moreover, alpha does not map to the commutativity of integers.\n",
      "\n",
      "Contradiction.\n",
      "\n",
      "Let v equal a tensor contained in the span of p.\n",
      "\n",
      "Therefore, y, X does not denote the associativity of eigenvectors.\n",
      "Therefore, beta, b, a does not correspond to the differentiability of operators.\n",
      "\n",
      "QED.\n",
      "\n",
      "Let p define a conjugate overlapping the domain of z.\n",
      "\n",
      "Consequently, s, b does not describe the orthonormality of functions.\n",
      "\n",
      "QED.\n",
      "\n",
      "Let X map to a eigenvector overlapping the span of v.\n",
      "\n",
      "However, s does not correspond to the homogeneity of products.\n",
      "Thus, beta does not denote the integrability of frequencys.\n",
      "Moreover, z does not indicate the commutativity of scalars.\n"
     ]
    },
    {
     "ename": "KeyboardInterrupt",
     "evalue": "",
     "output_type": "error",
     "traceback": [
      "\u001b[0;31m---------------------------------------------------------------------------\u001b[0m",
      "\u001b[0;31mKeyboardInterrupt\u001b[0m                         Traceback (most recent call last)",
      "Cell \u001b[0;32mIn[89], line 42\u001b[0m\n\u001b[1;32m     39\u001b[0m     proc_do_step(logic_step)\n\u001b[1;32m     40\u001b[0m     proc_do_step(\u001b[38;5;28;01mlambda\u001b[39;00m: \u001b[38;5;28mprint\u001b[39m(c(conclusions) \u001b[38;5;241m+\u001b[39m \u001b[38;5;124m\"\u001b[39m\u001b[38;5;124m.\u001b[39m\u001b[38;5;124m\"\u001b[39m), nc\u001b[38;5;241m=\u001b[39m\u001b[38;5;28;01mlambda\u001b[39;00m: \u001b[38;5;241m1\u001b[39m)\n\u001b[0;32m---> 42\u001b[0m \u001b[38;5;28;01mwhile\u001b[39;00m \u001b[38;5;28;01mTrue\u001b[39;00m: proc()\n",
      "Cell \u001b[0;32mIn[89], line 39\u001b[0m, in \u001b[0;36mproc\u001b[0;34m()\u001b[0m\n\u001b[1;32m     37\u001b[0m \u001b[38;5;28;01mdef\u001b[39;00m \u001b[38;5;21mproc\u001b[39m():\n\u001b[1;32m     38\u001b[0m     proc_do_step(definition)\n\u001b[0;32m---> 39\u001b[0m     \u001b[43mproc_do_step\u001b[49m\u001b[43m(\u001b[49m\u001b[43mlogic_step\u001b[49m\u001b[43m)\u001b[49m\n\u001b[1;32m     40\u001b[0m     proc_do_step(\u001b[38;5;28;01mlambda\u001b[39;00m: \u001b[38;5;28mprint\u001b[39m(c(conclusions) \u001b[38;5;241m+\u001b[39m \u001b[38;5;124m\"\u001b[39m\u001b[38;5;124m.\u001b[39m\u001b[38;5;124m\"\u001b[39m), nc\u001b[38;5;241m=\u001b[39m\u001b[38;5;28;01mlambda\u001b[39;00m: \u001b[38;5;241m1\u001b[39m)\n",
      "Cell \u001b[0;32mIn[89], line 32\u001b[0m, in \u001b[0;36mproc_do_step\u001b[0;34m(fn, nc)\u001b[0m\n\u001b[1;32m     30\u001b[0m \u001b[38;5;28;01mfor\u001b[39;00m _ \u001b[38;5;129;01min\u001b[39;00m \u001b[38;5;28mrange\u001b[39m(nc()):\n\u001b[1;32m     31\u001b[0m     fn()\n\u001b[0;32m---> 32\u001b[0m     time\u001b[38;5;241m.\u001b[39msleep(\u001b[38;5;241m1.0\u001b[39m)\n\u001b[1;32m     34\u001b[0m \u001b[38;5;28mprint\u001b[39m()\n\u001b[1;32m     35\u001b[0m time\u001b[38;5;241m.\u001b[39msleep(\u001b[38;5;241m2.0\u001b[39m)\n",
      "\u001b[0;31mKeyboardInterrupt\u001b[0m: "
     ]
    }
   ],
   "source": [
    "import random\n",
    "import time\n",
    "\n",
    "spaces = [\"space\", \"span\", \"set\", \"system\", \"basis\", \"subspace\", \"manifold\", \"field\", \"domain\", \"group\", \"lattice\", \"vector space\", \"topology\"]\n",
    "objects = [\"vector\", \"matrix\", \"signal\", \"integer\", \"norm\", \"product\", \"conjugate\", \"scalar\", \"frequency\", \"operator\", \"tensor\", \"eigenvalue\", \"eigenvector\", \"transformation\", \"sequence\", \"function\", \"polynomial\"]\n",
    "theorems = [\"homogeneity\", \"independence\", \"orthogonality\", \"orthonormality\", \"periodicity\", \"symmetry\", \"duality\", \"continuity\", \"linearity\", \"invertibility\", \"commutativity\", \"associativity\", \"distributivity\", \"closure\", \"compactness\", \"convergence\", \"differentiability\", \"integrability\"]\n",
    "variables = [\"x\", \"X\", \"v\", \"a\", \"b\", \"q\", \"z\", \"y\", \"n\", \"t\", \"s\", \"u\", \"w\", \"p\", \"lambda\", \"theta\", \"alpha\", \"beta\", \"gamma\", \"delta\"]\n",
    "setter = [\"equal\", \"represent\", \"satisfy\", \"define\", \"describe\", \"denote\", \"map to\", \"correspond to\", \"indicate\"]\n",
    "within = [\"in\", \"within\", \"part of\", \"belonging to\", \"contained in\", \"spanning\", \"covering\", \"overlapping\", \"bounded by\"]\n",
    "\n",
    "logic_stmts = [\"it follows that\", \"therefore,\", \"however,\", \"it is implied that\", \"consequently,\", \"it can be shown that\", \"hence,\", \"thus,\", \"moreover,\", \"as a result,\"]\n",
    "conclusions = [\"QED\", \"Contradiction\", \"The proof is complete\", \"The statement is false\", \"This concludes the proof\", \"Hence proved\"]\n",
    "\n",
    "c = random.choice\n",
    "o = lambda *args: c(args)\n",
    "m = lambda x: o(x, \"\")\n",
    "a = lambda *args: \" \".join(args)\n",
    "s = lambda *args: \", \".join(args)\n",
    "sl = lambda x: \", \".join(x)\n",
    "n = lambda: random.randint(1, 3)\n",
    "mr = lambda x: [c(x) for _ in range(n())]\n",
    "\n",
    "def definition():\n",
    "    print(f\"Let {c(variables)} {c(setter)} a {c(objects)} {c(within)} the {m('sub-') + c(spaces)} of {c(variables)}.\")\n",
    "\n",
    "def logic_step():\n",
    "    print(f\"{c(logic_stmts).capitalize()} {o(a(c(variables), 'does'), a(sl(mr(variables)), 'does'))} {m('not ')}{c(setter)} the {c(theorems)} of {c(objects)}s.\")\n",
    "\n",
    "def proc_do_step(fn, nc=n):\n",
    "    for _ in range(nc()):\n",
    "        fn()\n",
    "        time.sleep(1.0)\n",
    "\n",
    "    print()\n",
    "    time.sleep(2.0)\n",
    "\n",
    "def proc():\n",
    "    proc_do_step(definition)\n",
    "    proc_do_step(logic_step)\n",
    "    proc_do_step(lambda: print(c(conclusions) + \".\"), nc=lambda: 1)\n",
    "\n",
    "while True: proc()"
   ]
  },
  {
   "cell_type": "code",
   "execution_count": null,
   "id": "08d0b4d9-e03b-42bc-a0ba-8718c276bf0a",
   "metadata": {},
   "outputs": [],
   "source": [
    "    "
   ]
  }
 ],
 "metadata": {
  "kernelspec": {
   "display_name": "Python 3 (ipykernel)",
   "language": "python",
   "name": "python3"
  },
  "language_info": {
   "codemirror_mode": {
    "name": "ipython",
    "version": 3
   },
   "file_extension": ".py",
   "mimetype": "text/x-python",
   "name": "python",
   "nbconvert_exporter": "python",
   "pygments_lexer": "ipython3",
   "version": "3.11.9"
  }
 },
 "nbformat": 4,
 "nbformat_minor": 5
}
